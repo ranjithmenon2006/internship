{
 "cells": [
  {
   "cell_type": "code",
   "execution_count": 1,
   "id": "3636f4d3",
   "metadata": {},
   "outputs": [
    {
     "name": "stdout",
     "output_type": "stream",
     "text": [
      "Python:Exercises::PHP:exercises:\n"
     ]
    }
   ],
   "source": [
    "import re\n",
    "\n",
    "text = \"Python Exercises, PHP exercises.\"\n",
    "pattern = r\"[ ,\\.]\"\n",
    "n_text = re.sub(pattern, \":\", text)\n",
    "print(n_text)"
   ]
  },
  {
   "cell_type": "code",
   "execution_count": 4,
   "id": "0b66e88c",
   "metadata": {},
   "outputs": [
    {
     "name": "stdout",
     "output_type": "stream",
     "text": [
      "              text\n",
      "0     hello world \n",
      "1             test\n",
      "2   four five six \n"
     ]
    }
   ],
   "source": [
    "import pandas as pd\n",
    "import re\n",
    "data = pd.DataFrame({'text': ['hello, world!', 'XXXXXtest', '123four, five:; six...']})\n",
    "def select_textal_data(text):\n",
    "    pattern = r'[A-Z\\d\\W]+'\n",
    "    return re.sub(pattern,\" \",text)\n",
    "data['text'] = data['text'].apply(select_textal_data)\n",
    "\n",
    "print(data)"
   ]
  },
  {
   "cell_type": "code",
   "execution_count": 7,
   "id": "8c634c1f",
   "metadata": {},
   "outputs": [
    {
     "name": "stdout",
     "output_type": "stream",
     "text": [
      "['There', 'near', 'school']\n"
     ]
    }
   ],
   "source": [
    "import re\n",
    "text = 'There is a boy near the school.'\n",
    "print(re.findall(r\"\\b\\w{4,}\\b\", text))"
   ]
  },
  {
   "cell_type": "code",
   "execution_count": 8,
   "id": "398deaf0",
   "metadata": {},
   "outputs": [
    {
     "name": "stdout",
     "output_type": "stream",
     "text": [
      "['There', 'black', 'dog']\n"
     ]
    }
   ],
   "source": [
    "import re\n",
    "text = 'There is a black colour dog.'\n",
    "print(re.findall(r\"\\b\\w{3,5}\\b\", text))"
   ]
  },
  {
   "cell_type": "code",
   "execution_count": 14,
   "id": "67e41b68",
   "metadata": {},
   "outputs": [
    {
     "name": "stdout",
     "output_type": "stream",
     "text": [
      "['example .com', 'hr@fliprobo .com', 'github .com', 'Hello Data Science World', 'Data Scientist']\n"
     ]
    }
   ],
   "source": [
    "import re\n",
    "\n",
    "def remove_only_parentheses(text_list):\n",
    "    pattern = re.compile(r\"\\(|\\)\")\n",
    "    return [pattern.sub(\"\", text) for text in text_list]\n",
    "text_list = [\"example (.com)\", \"hr@fliprobo (.com)\", \"github (.com)\", \"Hello (Data Science World)\", \"Data (Scientist)\"]\n",
    "new_list = remove_only_parentheses(text_list)\n",
    "\n",
    "print(new_list)"
   ]
  },
  {
   "cell_type": "code",
   "execution_count": 15,
   "id": "f729ec48",
   "metadata": {},
   "outputs": [
    {
     "name": "stdout",
     "output_type": "stream",
     "text": [
      "new lines:\n",
      "['example hr@fliprobo github Hello Data ']\n"
     ]
    }
   ],
   "source": [
    "import re\n",
    "def remove_parentheses(filename): \n",
    "    pattern = r\"\\(.*?\\)\"\n",
    "    with open(filename, \"r\") as file:\n",
    "        lines = file.readlines()\n",
    "    modified_lines = [re.sub(pattern, \"\", line.strip()) for line in lines]\n",
    "    return modified_lines\n",
    "text = [\"example (.com)\", \"hr@fliprobo (.com)\", \"github (.com)\", \"Hello (Data Science World)\", \"Data (Scientist)\"]\n",
    "filename = \"sample_text.txt\"\n",
    "with open(filename, \"w\") as file:\n",
    "    file.writelines(text)\n",
    "new_lines = remove_parentheses(filename)\n",
    "print(\"new lines:\")\n",
    "for line in new_lines:\n",
    "    print([line])"
   ]
  },
  {
   "cell_type": "code",
   "execution_count": 16,
   "id": "4ae39277",
   "metadata": {},
   "outputs": [
    {
     "name": "stdout",
     "output_type": "stream",
     "text": [
      "['Importance', 'Of', 'Regular', 'Expressions', 'In', 'Python']\n"
     ]
    }
   ],
   "source": [
    "import re\n",
    "\n",
    "string = \"ImportanceOfRegularExpressionsInPython\"\n",
    "pattern = r\"(?<!^)(?=[A-Z])\"\n",
    "s_string = re.split(pattern, string)\n",
    "\n",
    "print(s_string)"
   ]
  },
  {
   "cell_type": "code",
   "execution_count": 18,
   "id": "fef67c98",
   "metadata": {},
   "outputs": [
    {
     "name": "stdout",
     "output_type": "stream",
     "text": [
      "RegularExpression1 IsAn2 ImportantTopic3 InPython\n"
     ]
    }
   ],
   "source": [
    "import re\n",
    "\n",
    "def insert_spaces(text):\n",
    "    pattern = r'(\\d+)([A-Za-z]+)'\n",
    "    result = re.sub(pattern, r'\\1 \\2', text)\n",
    "    return result\n",
    "text = \"RegularExpression1IsAn2ImportantTopic3InPython\"\n",
    "out = insert_spaces(text)\n",
    "print(out)"
   ]
  },
  {
   "cell_type": "code",
   "execution_count": 20,
   "id": "5dec0058",
   "metadata": {},
   "outputs": [
    {
     "name": "stdout",
     "output_type": "stream",
     "text": [
      "Regular Expression1 Is An2 Important Topic3 In Python\n"
     ]
    }
   ],
   "source": [
    "import re\n",
    "\n",
    "def insert_spaces(text):\n",
    "    pattern = r'([A-Z][a-z0-9]+|\\d+)'\n",
    "    result = re.sub(pattern, r' \\1', text)\n",
    "    result = result.strip()\n",
    "    return result\n",
    "text = \"RegularExpression1IsAn2ImportantTopic3InPython\"\n",
    "out = insert_spaces(text)\n",
    "print(out)"
   ]
  },
  {
   "cell_type": "code",
   "execution_count": 21,
   "id": "2aaba4f5",
   "metadata": {},
   "outputs": [
    {
     "name": "stdout",
     "output_type": "stream",
     "text": [
      "       Country  Happiness Rank  Happiness Score First Five Letters\n",
      "0      Finland               1            7.592             Finlan\n",
      "1      Denmark               2            7.591             Denmar\n",
      "2  Switzerland               3            7.586             Switze\n",
      "3      Iceland               4            7.561             Icelan\n",
      "4  Netherlands               5            7.528             Nether\n",
      "5       Norway               6            7.517             Norway\n",
      "6       Sweden               7            7.500             Sweden\n",
      "7  New Zealand               8            7.488             New Ze\n",
      "8      Austria               9            7.481             Austri\n",
      "9   Luxembourg              10            7.479             Luxemb\n"
     ]
    }
   ],
   "source": [
    "import pandas as pd\n",
    "data = [\n",
    "    {\"Country\": \"Finland\", \"Happiness Rank\": 1, \"Happiness Score\": 7.592},\n",
    "    {\"Country\": \"Denmark\", \"Happiness Rank\": 2, \"Happiness Score\": 7.591},\n",
    "    {\"Country\": \"Switzerland\", \"Happiness Rank\": 3, \"Happiness Score\": 7.586},\n",
    "    {\"Country\": \"Iceland\", \"Happiness Rank\": 4, \"Happiness Score\": 7.561},\n",
    "    {\"Country\": \"Netherlands\", \"Happiness Rank\": 5, \"Happiness Score\": 7.528},\n",
    "    {\"Country\": \"Norway\", \"Happiness Rank\": 6, \"Happiness Score\": 7.517},\n",
    "    {\"Country\": \"Sweden\", \"Happiness Rank\": 7, \"Happiness Score\": 7.500},\n",
    "    {\"Country\": \"New Zealand\", \"Happiness Rank\": 8, \"Happiness Score\": 7.488},\n",
    "    {\"Country\": \"Austria\", \"Happiness Rank\": 9, \"Happiness Score\": 7.481},\n",
    "    {\"Country\": \"Luxembourg\", \"Happiness Rank\": 10, \"Happiness Score\": 7.479},\n",
    "]\n",
    "df = pd.DataFrame(data)\n",
    "df[\"First Five Letters\"] = df[\"Country\"].str[:6]\n",
    "print(df)"
   ]
  },
  {
   "cell_type": "code",
   "execution_count": 22,
   "id": "6e0646ea",
   "metadata": {},
   "outputs": [
    {
     "name": "stdout",
     "output_type": "stream",
     "text": [
      "String matches the pattern\n",
      "String does not match the pattern\n"
     ]
    }
   ],
   "source": [
    "import re\n",
    "\n",
    "def match_string(string):\n",
    "    pattern = r'^[a-zA-Z0-9_]+$'\n",
    "    if re.match(pattern, string):\n",
    "        print(\"String matches the pattern\")\n",
    "    else:\n",
    "        print(\"String does not match the pattern\")\n",
    "        \n",
    "match_string(\"Hello_World123\")  \n",
    "match_string(\"Hello World\")    "
   ]
  },
  {
   "cell_type": "code",
   "execution_count": 24,
   "id": "7d0e3342",
   "metadata": {},
   "outputs": [
    {
     "name": "stdout",
     "output_type": "stream",
     "text": [
      "The string starts with the specified number.\n"
     ]
    }
   ],
   "source": [
    "def check_starting_number(string, number):\n",
    "    if string.startswith(str(number)):\n",
    "        return True\n",
    "    else:\n",
    "        return False\n",
    "string = \"67abc\"\n",
    "number = 67\n",
    "\n",
    "if check_starting_number(string, number):\n",
    "     print(\"The string starts with the specified number.\")\n",
    "else:\n",
    "    print(\"The string does not start with the specified number.\")"
   ]
  },
  {
   "cell_type": "code",
   "execution_count": 25,
   "id": "40130fb8",
   "metadata": {},
   "outputs": [
    {
     "name": "stdout",
     "output_type": "stream",
     "text": [
      "200..14.136\n"
     ]
    }
   ],
   "source": [
    "import re\n",
    "ip = \"200.00.014.136\"\n",
    "string = re.sub('\\.[0]*', '.', ip)\n",
    "print(string)"
   ]
  },
  {
   "cell_type": "code",
   "execution_count": 26,
   "id": "c2388a17",
   "metadata": {},
   "outputs": [
    {
     "name": "stdout",
     "output_type": "stream",
     "text": [
      "Extracted date: August 15th 1947\n"
     ]
    }
   ],
   "source": [
    "import re\n",
    "\n",
    "def extract_date(filename):\n",
    "    pattern = r\"(?i)\\b(January|February|March|April|May|June|July|August|September|October|November|December)\\s+([0-9]+)(?:st|nd|rd|th)\\s+([0-9]{4})\\b\"\n",
    "    with open(filename, \"r\") as file:\n",
    "        text = file.read()\n",
    "        match = re.search(pattern, text)\n",
    "    if match:\n",
    "        return match.group(0)\n",
    "    else:\n",
    "        return None\n",
    "text = \"On August 15th 1947 that India was declared independent from British colonialism, and the reins of control were handed over to the leaders of the Country.\"\n",
    "filename = \"sample_text.txt\"\n",
    "with open(filename, \"w\") as file:\n",
    "    file.write(text)\n",
    "extracted_date = extract_date(filename)\n",
    "if extracted_date:\n",
    "    print(\"Extracted date:\", extracted_date)\n",
    "else:\n",
    "    print(\"No date found in the expected format.\")"
   ]
  },
  {
   "cell_type": "code",
   "execution_count": 31,
   "id": "3618276a",
   "metadata": {},
   "outputs": [
    {
     "name": "stdout",
     "output_type": "stream",
     "text": [
      "Searching for \"fox\" in \"The quick brown fox jumps over the lazy dog.\" ->\n",
      "Matched!\n",
      "Searching for \"dog\" in \"The quick brown fox jumps over the lazy dog.\" ->\n",
      "Matched!\n",
      "Searching for \"horse\" in \"The quick brown fox jumps over the lazy dog.\" ->\n",
      "Not Matched!\n"
     ]
    }
   ],
   "source": [
    "import re\n",
    "patterns = [ 'fox', 'dog', 'horse' ]\n",
    "text = 'The quick brown fox jumps over the lazy dog.'\n",
    "for pattern in patterns:\n",
    "    print('Searching for \"%s\" in \"%s\" ->' % (pattern, text),)\n",
    "    if re.search(pattern,  text):\n",
    "        print('Matched!')\n",
    "    else:\n",
    "        print('Not Matched!')"
   ]
  },
  {
   "cell_type": "code",
   "execution_count": 32,
   "id": "fcba6fdb",
   "metadata": {},
   "outputs": [
    {
     "name": "stdout",
     "output_type": "stream",
     "text": [
      "The word 'fox' was found in the text starting at index 16 and ending at index 18.\n",
      "The word 'fox' was found 1 times in the text:\n",
      "- Found at index 16.\n"
     ]
    }
   ],
   "source": [
    "import re\n",
    "\n",
    "text = \"The quick brown fox jumps over the lazy dog.\"\n",
    "searched_word = \"fox\"\n",
    "match = re.search(searched_word, text)\n",
    "\n",
    "if match:\n",
    "    start_index = match.start()\n",
    "    end_index = match.end()\n",
    "    print(f\"The word '{searched_word}' was found in the text starting at index {start_index} and ending at index {end_index - 1}.\")\n",
    "else:\n",
    "    print(f\"The word '{searched_word}' was not found in the text.\")\n",
    "all_matches = re.findall(searched_word, text)\n",
    "\n",
    "if all_matches:\n",
    "    print(f\"The word '{searched_word}' was found {len(all_matches)} times in the text:\")\n",
    "    for match in re.finditer(searched_word, text):\n",
    "        print(f\"- Found at index {match.start()}.\")"
   ]
  },
  {
   "cell_type": "code",
   "execution_count": 33,
   "id": "d1a113a8",
   "metadata": {},
   "outputs": [
    {
     "name": "stdout",
     "output_type": "stream",
     "text": [
      "Found 'exercises' 3 times:\n",
      "- Found at index 7 (between 'exercises')\n",
      "- Found at index 22 (between 'exercises')\n",
      "- Found at index 36 (between 'exercises')\n"
     ]
    }
   ],
   "source": [
    "import re\n",
    "\n",
    "text = \"Python exercises, PHP exercises, C# exercises\"\n",
    "pattern = \"exercises\"\n",
    "matches = re.findall(pattern, text)\n",
    "\n",
    "if matches:\n",
    "    print(f\"Found '{pattern}' {len(matches)} times:\")\n",
    "    for match in re.finditer(pattern, text):\n",
    "        start_index = match.start()\n",
    "        end_index = match.end()\n",
    "        print(f\"- Found at index {start_index} (between '{text[start_index:end_index]}')\")\n",
    "else:\n",
    "    print(f\"The pattern '{pattern}' was not found in the text.\")"
   ]
  },
  {
   "cell_type": "code",
   "execution_count": 35,
   "id": "b0447fbd",
   "metadata": {},
   "outputs": [
    {
     "name": "stdout",
     "output_type": "stream",
     "text": [
      "Substring: 'M' found at index 0 to 0\n",
      "Substring: 'Mi' found at index 0 to 1\n",
      "Substring: 'Mis' found at index 0 to 2\n",
      "Substring: 'Miss' found at index 0 to 3\n",
      "Substring: 'Missi' found at index 0 to 4\n",
      "Substring: 'Missis' found at index 0 to 5\n",
      "Substring: 'Mississ' found at index 0 to 6\n",
      "Substring: 'Mississi' found at index 0 to 7\n",
      "Substring: 'Mississip' found at index 0 to 8\n",
      "Substring: 'Mississipp' found at index 0 to 9\n",
      "Substring: 'Mississippi' found at index 0 to 10\n",
      "Substring: 'i' found at index 1 to 1\n",
      "Substring: 'is' found at index 1 to 2\n",
      "Substring: 'iss' found at index 1 to 3\n",
      "Substring: 'issi' found at index 1 to 4\n",
      "Substring: 'issis' found at index 1 to 5\n",
      "Substring: 'ississ' found at index 1 to 6\n",
      "Substring: 'ississi' found at index 1 to 7\n",
      "Substring: 'ississip' found at index 1 to 8\n",
      "Substring: 'ississipp' found at index 1 to 9\n",
      "Substring: 'ississippi' found at index 1 to 10\n",
      "Substring: 's' found at index 2 to 2\n",
      "Substring: 'ss' found at index 2 to 3\n",
      "Substring: 'ssi' found at index 2 to 4\n",
      "Substring: 'ssis' found at index 2 to 5\n",
      "Substring: 'ssiss' found at index 2 to 6\n",
      "Substring: 'ssissi' found at index 2 to 7\n",
      "Substring: 'ssissip' found at index 2 to 8\n",
      "Substring: 'ssissipp' found at index 2 to 9\n",
      "Substring: 'ssissippi' found at index 2 to 10\n",
      "Substring: 'si' found at index 3 to 4\n",
      "Substring: 'sis' found at index 3 to 5\n",
      "Substring: 'siss' found at index 3 to 6\n",
      "Substring: 'sissi' found at index 3 to 7\n",
      "Substring: 'sissip' found at index 3 to 8\n",
      "Substring: 'sissipp' found at index 3 to 9\n",
      "Substring: 'sissippi' found at index 3 to 10\n",
      "Substring: 'issip' found at index 4 to 8\n",
      "Substring: 'issipp' found at index 4 to 9\n",
      "Substring: 'issippi' found at index 4 to 10\n",
      "Substring: 'ssip' found at index 5 to 8\n",
      "Substring: 'ssipp' found at index 5 to 9\n",
      "Substring: 'ssippi' found at index 5 to 10\n",
      "Substring: 'sip' found at index 6 to 8\n",
      "Substring: 'sipp' found at index 6 to 9\n",
      "Substring: 'sippi' found at index 6 to 10\n",
      "Substring: 'ip' found at index 7 to 8\n",
      "Substring: 'ipp' found at index 7 to 9\n",
      "Substring: 'ippi' found at index 7 to 10\n",
      "Substring: 'p' found at index 8 to 8\n",
      "Substring: 'pp' found at index 8 to 9\n",
      "Substring: 'ppi' found at index 8 to 10\n",
      "Substring: 'pi' found at index 9 to 10\n"
     ]
    }
   ],
   "source": [
    "def find_substrings(text):\n",
    "    substrings = set()\n",
    "    for i in range(len(text)):\n",
    "        for j in range(i + 1, len(text) + 1):\n",
    "            substring = text[i:j]\n",
    "            if substring not in substrings:\n",
    "                substrings.add(substring)\n",
    "                print(f\"Substring: '{substring}' found at index {i} to {j - 1}\")\n",
    "text = \"Mississippi\"\n",
    "find_substrings(text)"
   ]
  },
  {
   "cell_type": "code",
   "execution_count": 36,
   "id": "f884aee4",
   "metadata": {},
   "outputs": [
    {
     "name": "stdout",
     "output_type": "stream",
     "text": [
      "30-05-2020\n"
     ]
    }
   ],
   "source": [
    "import re\n",
    "date = '2020-05-30'\n",
    "sem = re.split('-', date)\n",
    "new_date = '-'.join(sem[::-1])\n",
    "print(new_date)"
   ]
  },
  {
   "cell_type": "code",
   "execution_count": 37,
   "id": "85214454",
   "metadata": {},
   "outputs": [
    {
     "name": "stdout",
     "output_type": "stream",
     "text": [
      "['01.12', '0132.12', '2.31', '145.8', '3.01', '27.25', '0.25']\n"
     ]
    }
   ],
   "source": [
    "import re\n",
    "\n",
    "def find_decimal_numbers(string):\n",
    "    pattern = re.compile(r'\\d+\\.\\d{1,2}')\n",
    "    decimal_numbers = re.findall(pattern, string)\n",
    "    return decimal_numbers\n",
    "sample_text = \"01.12 0132.123 2.31875 145.8 3.01 27.25 0.25\"\n",
    "output = find_decimal_numbers(sample_text)\n",
    "print(output)"
   ]
  },
  {
   "cell_type": "code",
   "execution_count": 38,
   "id": "257aa226",
   "metadata": {},
   "outputs": [
    {
     "name": "stdout",
     "output_type": "stream",
     "text": [
      "50\n",
      "Index position: 62\n"
     ]
    }
   ],
   "source": [
    "import re\n",
    "text = \"The following example creates an ArrayList with a capacity of 50 elements. Four elements are then added to the ArrayList and the ArrayList is trimmed accordingly.\"\n",
    "\n",
    "for v in re.finditer(\"\\d+\", text):\n",
    "    print(v.group(0))\n",
    "    print(\"Index position:\", v.start())"
   ]
  },
  {
   "cell_type": "code",
   "execution_count": 39,
   "id": "782a115f",
   "metadata": {},
   "outputs": [
    {
     "name": "stdout",
     "output_type": "stream",
     "text": [
      "Maximum numeric value: 950\n"
     ]
    }
   ],
   "source": [
    "import re\n",
    "text = \"My marks in each semester are: 947, 896, 926, 524, 734, 950, 642\"\n",
    "pattern = r\"\\d+\"\n",
    "matches = re.findall(pattern, text)\n",
    "if matches:\n",
    "    max_value = int(max(matches))\n",
    "    print(\"Maximum numeric value:\", max_value)\n",
    "else:\n",
    "    print(\"No numbers found in the text.\")"
   ]
  },
  {
   "cell_type": "code",
   "execution_count": 40,
   "id": "33b2b62a",
   "metadata": {},
   "outputs": [
    {
     "name": "stdout",
     "output_type": "stream",
     "text": [
      "Regular Expression Is An Important Topic In Python\n"
     ]
    }
   ],
   "source": [
    "import re\n",
    "def insert_spaces(text):\n",
    "    pattern = r'([A-Z][a-z]+)'\n",
    "    result = re.sub(pattern, r' \\1', text)\n",
    "    result = result.strip()\n",
    "    return result\n",
    "sample_text = \"RegularExpressionIsAnImportantTopicInPython\"\n",
    "out = insert_spaces(sample_text)\n",
    "print(out)"
   ]
  },
  {
   "cell_type": "code",
   "execution_count": 41,
   "id": "74c15c2c",
   "metadata": {},
   "outputs": [
    {
     "name": "stdout",
     "output_type": "stream",
     "text": [
      "Found a match!\n",
      "['This', 'Aa', 'Bb', 'Cc', 'Python', 'Interpreter']\n"
     ]
    }
   ],
   "source": [
    "import re\n",
    "\n",
    "pattern = r\"[A-Z][a-z]+\"\n",
    "text = \"This is a string with AaBbCc PythonInterpreter\"\n",
    "if re.search(pattern, text):\n",
    "    print(\"Found a match!\")\n",
    "else:\n",
    "    print(\"No match found\")\n",
    "matches = re.findall(pattern, text)\n",
    "print(matches)"
   ]
  },
  {
   "cell_type": "code",
   "execution_count": 42,
   "id": "cbcfa5b3",
   "metadata": {},
   "outputs": [
    {
     "name": "stdout",
     "output_type": "stream",
     "text": [
      "Hello hello world\n"
     ]
    }
   ],
   "source": [
    "import re\n",
    "\n",
    "def remove_duplicate_words(text):\n",
    "    pattern = r\"\\b(\\w+)(?:\\s+\\1\\b)+\"\n",
    "    return re.sub(pattern, r\"\\1\", text)\n",
    "text = \"Hello hello world world\"\n",
    "m_text = remove_duplicate_words(text)\n",
    "print(m_text)"
   ]
  },
  {
   "cell_type": "code",
   "execution_count": 43,
   "id": "b8f6762a",
   "metadata": {},
   "outputs": [
    {
     "name": "stdout",
     "output_type": "stream",
     "text": [
      "Enter a string: hello_123\n",
      "String ends with an alphanumeric character\n"
     ]
    }
   ],
   "source": [
    "import re\n",
    "\n",
    "def check_string(string):\n",
    "    pattern = r\"\\w$\"\n",
    "    match = re.search(pattern, string)\n",
    "    if match:\n",
    "        return True\n",
    "    else:\n",
    "        return False\n",
    "input_string = input(\"Enter a string: \")\n",
    "if check_string(input_string):\n",
    "    print(\"String ends with an alphanumeric character\")\n",
    "else:\n",
    "    print(\"String does not end with an alphanumeric character\")"
   ]
  },
  {
   "cell_type": "code",
   "execution_count": 47,
   "id": "18160776",
   "metadata": {},
   "outputs": [
    {
     "name": "stdout",
     "output_type": "stream",
     "text": [
      "['#Doltiwal', '#xyzabc', '#Demonetization']\n"
     ]
    }
   ],
   "source": [
    "import re\n",
    "def extract_hasht(text):\n",
    "    hasht = re.findall(r'#\\w+', text)\n",
    "    return hasht\n",
    "text = 'RT @kapil_kausik: #Doltiwal I mean #xyzabc is \"hurt\" by #Demonetization as the same has rendered USELESS <ed><U+00A0><U+00BD><ed><U+00B1><U+0089> \"acquired funds\" No wo'\n",
    "hasht = extract_hashtags(text)\n",
    "print(hasht)"
   ]
  },
  {
   "cell_type": "code",
   "execution_count": 48,
   "id": "8f1dce64",
   "metadata": {},
   "outputs": [
    {
     "name": "stdout",
     "output_type": "stream",
     "text": [
      "@Jags123456 Bharat band on 28??<ed><ed>Those who are protesting #demonetization are all different party leaders\n"
     ]
    }
   ],
   "source": [
    "import re\n",
    "\n",
    "input_text = \"@Jags123456 Bharat band on 28??<ed><U+00A0><U+00BD><ed><U+00B8><U+0082>Those who are protesting #demonetization are all different party leaders\"\n",
    "\n",
    "pattern = r\"<U\\+\\w{4}>\"\n",
    "out_text = re.sub(pattern, \"\", input_text)\n",
    "\n",
    "print(out_text)"
   ]
  },
  {
   "cell_type": "code",
   "execution_count": 49,
   "id": "c2faddc8",
   "metadata": {},
   "outputs": [
    {
     "name": "stdout",
     "output_type": "stream",
     "text": [
      "Extracted dates: ['12-09-1992', '15-12-1999']\n"
     ]
    }
   ],
   "source": [
    "import re\n",
    "def extract_dates(filename):\n",
    "    pattern = r\"(?:\\d{1,2}\\D\\d{1,2}\\D\\d{4}|\\d{4}-\\d{2}-\\d{2})\"\n",
    "    with open(filename, \"r\") as file:\n",
    "        text = file.read()\n",
    "        matches = re.findall(pattern, text)\n",
    "    return matches\n",
    "text = \"Ron was born on 12-09-1992 and he was admitted to school 15-12-1999.\"\n",
    "filename = \"sample_text.txt\"\n",
    "with open(filename, \"w\") as file:\n",
    "    file.write(text)\n",
    "extracted_dates = extract_dates(filename)\n",
    "if extracted_dates:\n",
    "    print(\"Extracted dates:\", extracted_dates)\n",
    "else:\n",
    "    print(\"No dates found in the file.\")"
   ]
  },
  {
   "cell_type": "code",
   "execution_count": 50,
   "id": "7f23b297",
   "metadata": {},
   "outputs": [
    {
     "name": "stdout",
     "output_type": "stream",
     "text": [
      " following example creates  ArrayList  a capacity   elements. 4 elements   added   ArrayList   ArrayList  trimmed accordingly.\n"
     ]
    }
   ],
   "source": [
    "import re\n",
    "def remove_words_by_length(text, min_length=2, max_length=4):\n",
    "    pattern = re.compile(rf\"\\b\\w{{{min_length},{max_length}}}\\b\", re.UNICODE)\n",
    "    return pattern.sub(\"\", text)\n",
    "text = \"The following example creates an ArrayList with a capacity of 50 elements. 4 elements are then added to the ArrayList and the ArrayList is trimmed accordingly.\"\n",
    "modified_text = remove_words_by_length(text)\n",
    "print(modified_text)"
   ]
  },
  {
   "cell_type": "code",
   "execution_count": null,
   "id": "edff82e9",
   "metadata": {},
   "outputs": [],
   "source": []
  }
 ],
 "metadata": {
  "kernelspec": {
   "display_name": "Python 3 (ipykernel)",
   "language": "python",
   "name": "python3"
  },
  "language_info": {
   "codemirror_mode": {
    "name": "ipython",
    "version": 3
   },
   "file_extension": ".py",
   "mimetype": "text/x-python",
   "name": "python",
   "nbconvert_exporter": "python",
   "pygments_lexer": "ipython3",
   "version": "3.11.5"
  }
 },
 "nbformat": 4,
 "nbformat_minor": 5
}
